{
 "cells": [
  {
   "cell_type": "markdown",
   "id": "fa5724f8",
   "metadata": {},
   "source": [
    "# Le script"
   ]
  },
  {
   "cell_type": "code",
   "execution_count": 7,
   "id": "2eb25714",
   "metadata": {
    "scrolled": true
   },
   "outputs": [
    {
     "name": "stdout",
     "output_type": "stream",
     "text": [
      "Proportion de mots avec 10 lettres ou plus : 0.0\n"
     ]
    }
   ],
   "source": [
    "# Créer une variable valant 4\n",
    "nombre_min_lettres = 10\n",
    "\n",
    "# Créer une variable qui vaut \"Vraie\"\n",
    "sortie_fichier = False\n",
    "\n",
    "# Demande à l'utilisateur une phrase avec la fonction input\n",
    "# Et stocke la réponse dans la variable phrase\n",
    "phrase = input(\"Écrivez une phrase: \")\n",
    "\n",
    "# On coupe la chaine de caractères quand il y a un espace\n",
    "liste_mots = phrase.split(\" \")\n",
    "\n",
    "# Crée une variable qui vaut le nombre de mots de ma liste\n",
    "nombre_mots = len(liste_mots)\n",
    "\n",
    "if nombre_mots == 0:\n",
    "    print(\"La liste est vide\")\n",
    "else:\n",
    "    compteur = 0\n",
    "    for mot in liste_mots:\n",
    "        if len(mot) >= nombre_min_lettres:\n",
    "            compteur = compteur + 1\n",
    "    proportion = 100 * compteur / nombre_mots\n",
    "    informations = {\n",
    "        \"Total\": compteur,\n",
    "        \"Proportion\": proportion,\n",
    "        \"Phrase\": phrase,\n",
    "        \"Seuil\": nombre_min_lettres,\n",
    "    }\n",
    "    sortie = f\"Proportion de mots avec {nombre_min_lettres} lettres ou plus : {proportion:0.1f}\"\n",
    "    print(sortie)\n",
    "    \n",
    "    if sortie_fichier:\n",
    "        with open(\"resultat.txt\", \"w\") as f:\n",
    "            f.write(str(informations))"
   ]
  },
  {
   "cell_type": "markdown",
   "id": "59b3c0c2",
   "metadata": {},
   "source": [
    "# Autopsie du code"
   ]
  },
  {
   "cell_type": "markdown",
   "id": "3860e8f6",
   "metadata": {},
   "source": [
    "Tout d'abord, notez la présence de ligne qui commence avec le symbol \"#\" : ces sont des *commentaires*. \n",
    "\n",
    "```code python\n",
    "# Créer une variable valant 10\n",
    "nombre_min_lettres = 10\n",
    "```"
   ]
  },
  {
   "cell_type": "markdown",
   "id": "b709b036",
   "metadata": {},
   "source": [
    "## Première ligne"
   ]
  },
  {
   "cell_type": "code",
   "execution_count": 2,
   "id": "c21ba1bb",
   "metadata": {},
   "outputs": [],
   "source": [
    "nombre_min_lettres = 4"
   ]
  },
  {
   "cell_type": "markdown",
   "id": "f06818ff",
   "metadata": {},
   "source": [
    "- on crée une nouvelle variable\n",
    "- on lui donne une valeur"
   ]
  },
  {
   "cell_type": "code",
   "execution_count": 3,
   "id": "e1b727c4",
   "metadata": {},
   "outputs": [
    {
     "data": {
      "text/plain": [
       "4"
      ]
     },
     "execution_count": 3,
     "metadata": {},
     "output_type": "execute_result"
    }
   ],
   "source": [
    "nombre_min_lettres"
   ]
  },
  {
   "cell_type": "code",
   "execution_count": 4,
   "id": "419dc2ac",
   "metadata": {},
   "outputs": [],
   "source": [
    "nb_lettres = 4"
   ]
  },
  {
   "cell_type": "code",
   "execution_count": 5,
   "id": "ca316186",
   "metadata": {},
   "outputs": [
    {
     "ename": "SyntaxError",
     "evalue": "invalid syntax (747210968.py, line 1)",
     "output_type": "error",
     "traceback": [
      "\u001b[0;36m  Input \u001b[0;32mIn [5]\u001b[0;36m\u001b[0m\n\u001b[0;31m    nb lettre\u001b[0m\n\u001b[0m       ^\u001b[0m\n\u001b[0;31mSyntaxError\u001b[0m\u001b[0;31m:\u001b[0m invalid syntax\n"
     ]
    }
   ],
   "source": [
    "nb lettre"
   ]
  },
  {
   "cell_type": "markdown",
   "id": "9e9d1fc3",
   "metadata": {},
   "source": [
    "Notez l'utilisation du symbol \" = \" pour *assigner* une valeur à une variable (et créér une nouvelle variable si elle n'existe pas déjà)."
   ]
  },
  {
   "cell_type": "code",
   "execution_count": 7,
   "id": "a5e317a8",
   "metadata": {},
   "outputs": [
    {
     "data": {
      "text/plain": [
       "9"
      ]
     },
     "execution_count": 7,
     "metadata": {},
     "output_type": "execute_result"
    }
   ],
   "source": [
    "nombre_min_lettres + 5"
   ]
  },
  {
   "cell_type": "code",
   "execution_count": 8,
   "id": "01cbb1a1",
   "metadata": {},
   "outputs": [
    {
     "data": {
      "text/plain": [
       "40"
      ]
     },
     "execution_count": 8,
     "metadata": {},
     "output_type": "execute_result"
    }
   ],
   "source": [
    "nombre_min_lettres * 10"
   ]
  },
  {
   "cell_type": "markdown",
   "id": "80056fac",
   "metadata": {},
   "source": [
    "Une fonction de base de Python : c'est la fonction `type`"
   ]
  },
  {
   "cell_type": "code",
   "execution_count": 9,
   "id": "def55c23",
   "metadata": {},
   "outputs": [
    {
     "data": {
      "text/plain": [
       "int"
      ]
     },
     "execution_count": 9,
     "metadata": {},
     "output_type": "execute_result"
    }
   ],
   "source": [
    "type(nombre_min_lettres)"
   ]
  },
  {
   "cell_type": "code",
   "execution_count": 10,
   "id": "da65ea3e",
   "metadata": {},
   "outputs": [],
   "source": [
    "nombre_min_lettres = 4.0"
   ]
  },
  {
   "cell_type": "code",
   "execution_count": 11,
   "id": "6b0ef8f2",
   "metadata": {},
   "outputs": [
    {
     "data": {
      "text/plain": [
       "float"
      ]
     },
     "execution_count": 11,
     "metadata": {},
     "output_type": "execute_result"
    }
   ],
   "source": [
    "type(nombre_min_lettres)"
   ]
  },
  {
   "cell_type": "markdown",
   "id": "5a07c282",
   "metadata": {},
   "source": [
    "## Deuxième ligne"
   ]
  },
  {
   "cell_type": "code",
   "execution_count": 16,
   "id": "70776b59",
   "metadata": {},
   "outputs": [],
   "source": [
    "sortie_fichier = True"
   ]
  },
  {
   "cell_type": "code",
   "execution_count": 15,
   "id": "42d2c31e",
   "metadata": {},
   "outputs": [
    {
     "data": {
      "text/plain": [
       "bool"
      ]
     },
     "execution_count": 15,
     "metadata": {},
     "output_type": "execute_result"
    }
   ],
   "source": [
    "type(sortie_fichier)"
   ]
  },
  {
   "cell_type": "markdown",
   "id": "362068f1",
   "metadata": {},
   "source": [
    "## Troisième ligne"
   ]
  },
  {
   "cell_type": "code",
   "execution_count": 5,
   "id": "1669aaa5",
   "metadata": {},
   "outputs": [],
   "source": [
    "phrase = input(\"Écrivez une phrase: \")"
   ]
  },
  {
   "cell_type": "code",
   "execution_count": 18,
   "id": "7e04dbbd",
   "metadata": {},
   "outputs": [
    {
     "name": "stdout",
     "output_type": "stream",
     "text": [
      "bla bla bla\n"
     ]
    },
    {
     "data": {
      "text/plain": [
       "'bla bla bla'"
      ]
     },
     "execution_count": 18,
     "metadata": {},
     "output_type": "execute_result"
    }
   ],
   "source": [
    "input()"
   ]
  },
  {
   "cell_type": "code",
   "execution_count": 20,
   "id": "de908480",
   "metadata": {},
   "outputs": [
    {
     "name": "stdout",
     "output_type": "stream",
     "text": [
      "BLAbla bla bla\n"
     ]
    },
    {
     "data": {
      "text/plain": [
       "'bla bla bla'"
      ]
     },
     "execution_count": 20,
     "metadata": {},
     "output_type": "execute_result"
    }
   ],
   "source": [
    "input(\"BLA\")"
   ]
  },
  {
   "cell_type": "code",
   "execution_count": 21,
   "id": "f601e2e5",
   "metadata": {},
   "outputs": [
    {
     "data": {
      "text/plain": [
       "'Ceci est ma phrase'"
      ]
     },
     "execution_count": 21,
     "metadata": {},
     "output_type": "execute_result"
    }
   ],
   "source": [
    "phrase"
   ]
  },
  {
   "cell_type": "code",
   "execution_count": 22,
   "id": "7a5f939b",
   "metadata": {},
   "outputs": [
    {
     "data": {
      "text/plain": [
       "str"
      ]
     },
     "execution_count": 22,
     "metadata": {},
     "output_type": "execute_result"
    }
   ],
   "source": [
    "type(phrase)"
   ]
  },
  {
   "cell_type": "code",
   "execution_count": 23,
   "id": "ad5ed16d",
   "metadata": {},
   "outputs": [
    {
     "name": "stdout",
     "output_type": "stream",
     "text": [
      "23\n"
     ]
    },
    {
     "data": {
      "text/plain": [
       "'23'"
      ]
     },
     "execution_count": 23,
     "metadata": {},
     "output_type": "execute_result"
    }
   ],
   "source": [
    "input()"
   ]
  },
  {
   "cell_type": "code",
   "execution_count": 4,
   "id": "525562e1",
   "metadata": {},
   "outputs": [
    {
     "name": "stdout",
     "output_type": "stream",
     "text": [
      "\u001b[0;31mSignature:\u001b[0m \u001b[0minput\u001b[0m\u001b[0;34m(\u001b[0m\u001b[0mprompt\u001b[0m\u001b[0;34m=\u001b[0m\u001b[0;34m''\u001b[0m\u001b[0;34m)\u001b[0m\u001b[0;34m\u001b[0m\u001b[0;34m\u001b[0m\u001b[0m\n",
      "\u001b[0;31mDocstring:\u001b[0m\n",
      "Forward raw_input to frontends\n",
      "\n",
      "Raises\n",
      "------\n",
      "StdinNotImplementedError if active frontend doesn't support stdin.\n",
      "\u001b[0;31mFile:\u001b[0m      ~/.pyenv/versions/3.10.0/envs/unil-intro-python/lib/python3.10/site-packages/ipykernel/kernelbase.py\n",
      "\u001b[0;31mType:\u001b[0m      method"
     ]
    }
   ],
   "source": [
    "?input"
   ]
  },
  {
   "cell_type": "code",
   "execution_count": 25,
   "id": "2df17f06",
   "metadata": {},
   "outputs": [
    {
     "data": {
      "text/plain": [
       "str"
      ]
     },
     "execution_count": 25,
     "metadata": {},
     "output_type": "execute_result"
    }
   ],
   "source": [
    "type(phrase)"
   ]
  },
  {
   "cell_type": "markdown",
   "id": "827d1450",
   "metadata": {},
   "source": [
    "Créer une nouvelle variable"
   ]
  },
  {
   "cell_type": "code",
   "execution_count": 29,
   "id": "0b716340",
   "metadata": {},
   "outputs": [],
   "source": [
    "variable_texte = 'Ceci est du texte'"
   ]
  },
  {
   "cell_type": "code",
   "execution_count": 30,
   "id": "a9405f55",
   "metadata": {},
   "outputs": [
    {
     "data": {
      "text/plain": [
       "str"
      ]
     },
     "execution_count": 30,
     "metadata": {},
     "output_type": "execute_result"
    }
   ],
   "source": [
    "type(variable_texte)"
   ]
  },
  {
   "cell_type": "code",
   "execution_count": 31,
   "id": "32a99084",
   "metadata": {},
   "outputs": [
    {
     "data": {
      "text/plain": [
       "'Ceci est du texte'"
      ]
     },
     "execution_count": 31,
     "metadata": {},
     "output_type": "execute_result"
    }
   ],
   "source": [
    "variable_texte"
   ]
  },
  {
   "cell_type": "code",
   "execution_count": 32,
   "id": "ea8e0789",
   "metadata": {},
   "outputs": [
    {
     "ename": "TypeError",
     "evalue": "can only concatenate str (not \"int\") to str",
     "output_type": "error",
     "traceback": [
      "\u001b[0;31m---------------------------------------------------------------------------\u001b[0m",
      "\u001b[0;31mTypeError\u001b[0m                                 Traceback (most recent call last)",
      "Input \u001b[0;32mIn [32]\u001b[0m, in \u001b[0;36m<cell line: 1>\u001b[0;34m()\u001b[0m\n\u001b[0;32m----> 1\u001b[0m \u001b[43mvariable_texte\u001b[49m\u001b[43m \u001b[49m\u001b[38;5;241;43m+\u001b[39;49m\u001b[43m \u001b[49m\u001b[38;5;241;43m1\u001b[39;49m\n",
      "\u001b[0;31mTypeError\u001b[0m: can only concatenate str (not \"int\") to str"
     ]
    }
   ],
   "source": [
    "variable_texte + 1"
   ]
  },
  {
   "cell_type": "code",
   "execution_count": 33,
   "id": "6896d45e",
   "metadata": {},
   "outputs": [
    {
     "data": {
      "text/plain": [
       "'Ceci est du texte et ceci en est aussi'"
      ]
     },
     "execution_count": 33,
     "metadata": {},
     "output_type": "execute_result"
    }
   ],
   "source": [
    "variable_texte + \" et ceci en est aussi\""
   ]
  },
  {
   "cell_type": "code",
   "execution_count": 34,
   "id": "b44fb2ea",
   "metadata": {},
   "outputs": [],
   "source": [
    "variable_texte = variable_texte + \" morceau de texte\""
   ]
  },
  {
   "cell_type": "code",
   "execution_count": 35,
   "id": "d454eb5e",
   "metadata": {},
   "outputs": [
    {
     "data": {
      "text/plain": [
       "'Ceci est du texte morceau de texte'"
      ]
     },
     "execution_count": 35,
     "metadata": {},
     "output_type": "execute_result"
    }
   ],
   "source": [
    "variable_texte"
   ]
  },
  {
   "cell_type": "markdown",
   "id": "1f2c64cc",
   "metadata": {},
   "source": [
    "**Les objets ont des méthodes et des propriétés internes**"
   ]
  },
  {
   "cell_type": "code",
   "execution_count": 36,
   "id": "cecfa4e2",
   "metadata": {},
   "outputs": [
    {
     "data": {
      "text/plain": [
       "str"
      ]
     },
     "execution_count": 36,
     "metadata": {},
     "output_type": "execute_result"
    }
   ],
   "source": [
    "type(variable_texte)"
   ]
  },
  {
   "cell_type": "markdown",
   "id": "9a789e17",
   "metadata": {},
   "source": [
    "## Quatrième ligne"
   ]
  },
  {
   "cell_type": "code",
   "execution_count": 37,
   "id": "eb97583b",
   "metadata": {},
   "outputs": [],
   "source": [
    "liste_mots = phrase.split(\" \")"
   ]
  },
  {
   "cell_type": "code",
   "execution_count": 39,
   "id": "3eba4207",
   "metadata": {},
   "outputs": [
    {
     "data": {
      "text/plain": [
       "'CECI EST MA PHRASE'"
      ]
     },
     "execution_count": 39,
     "metadata": {},
     "output_type": "execute_result"
    }
   ],
   "source": [
    "phrase.upper()"
   ]
  },
  {
   "cell_type": "code",
   "execution_count": 40,
   "id": "72e95918",
   "metadata": {},
   "outputs": [
    {
     "data": {
      "text/plain": [
       "'ceci est ma phrase'"
      ]
     },
     "execution_count": 40,
     "metadata": {},
     "output_type": "execute_result"
    }
   ],
   "source": [
    "phrase.lower()"
   ]
  },
  {
   "cell_type": "code",
   "execution_count": 41,
   "id": "a83f9b85",
   "metadata": {},
   "outputs": [
    {
     "data": {
      "text/plain": [
       "['Ceci', 'est', 'ma', 'phrase']"
      ]
     },
     "execution_count": 41,
     "metadata": {},
     "output_type": "execute_result"
    }
   ],
   "source": [
    "phrase.split(\" \")"
   ]
  },
  {
   "cell_type": "code",
   "execution_count": 10,
   "id": "5f2a9306",
   "metadata": {},
   "outputs": [],
   "source": [
    "#dir(phrase)"
   ]
  },
  {
   "cell_type": "markdown",
   "id": "babf38c4",
   "metadata": {},
   "source": [
    "### Parenthèse : changement de type"
   ]
  },
  {
   "cell_type": "code",
   "execution_count": 45,
   "id": "e0723bc0",
   "metadata": {},
   "outputs": [
    {
     "data": {
      "text/plain": [
       "10"
      ]
     },
     "execution_count": 45,
     "metadata": {},
     "output_type": "execute_result"
    }
   ],
   "source": [
    "int(\"10\")"
   ]
  },
  {
   "cell_type": "code",
   "execution_count": 46,
   "id": "b69c5370",
   "metadata": {},
   "outputs": [
    {
     "data": {
      "text/plain": [
       "'100'"
      ]
     },
     "execution_count": 46,
     "metadata": {},
     "output_type": "execute_result"
    }
   ],
   "source": [
    "str(100)"
   ]
  },
  {
   "cell_type": "code",
   "execution_count": 47,
   "id": "bb7d6e21",
   "metadata": {},
   "outputs": [
    {
     "ename": "TypeError",
     "evalue": "can only concatenate str (not \"int\") to str",
     "output_type": "error",
     "traceback": [
      "\u001b[0;31m---------------------------------------------------------------------------\u001b[0m",
      "\u001b[0;31mTypeError\u001b[0m                                 Traceback (most recent call last)",
      "Input \u001b[0;32mIn [47]\u001b[0m, in \u001b[0;36m<cell line: 1>\u001b[0;34m()\u001b[0m\n\u001b[0;32m----> 1\u001b[0m \u001b[38;5;124;43m\"\u001b[39;49m\u001b[38;5;124;43mCeci est un nombre : \u001b[39;49m\u001b[38;5;124;43m\"\u001b[39;49m\u001b[43m \u001b[49m\u001b[38;5;241;43m+\u001b[39;49m\u001b[43m \u001b[49m\u001b[38;5;241;43m10\u001b[39;49m\n",
      "\u001b[0;31mTypeError\u001b[0m: can only concatenate str (not \"int\") to str"
     ]
    }
   ],
   "source": [
    "\"Ceci est un nombre : \" + 10"
   ]
  },
  {
   "cell_type": "code",
   "execution_count": 48,
   "id": "21ec9536",
   "metadata": {},
   "outputs": [
    {
     "data": {
      "text/plain": [
       "'Ceci est un nombre : 10'"
      ]
     },
     "execution_count": 48,
     "metadata": {},
     "output_type": "execute_result"
    }
   ],
   "source": [
    "\"Ceci est un nombre : \" + str(10)"
   ]
  },
  {
   "cell_type": "markdown",
   "id": "49aca374",
   "metadata": {},
   "source": [
    "### Les listes"
   ]
  },
  {
   "cell_type": "code",
   "execution_count": 49,
   "id": "f2b60137",
   "metadata": {},
   "outputs": [
    {
     "data": {
      "text/plain": [
       "['Ceci', 'est', 'ma', 'phrase']"
      ]
     },
     "execution_count": 49,
     "metadata": {},
     "output_type": "execute_result"
    }
   ],
   "source": [
    "liste_mots"
   ]
  },
  {
   "cell_type": "code",
   "execution_count": 50,
   "id": "88f9c368",
   "metadata": {},
   "outputs": [
    {
     "data": {
      "text/plain": [
       "list"
      ]
     },
     "execution_count": 50,
     "metadata": {},
     "output_type": "execute_result"
    }
   ],
   "source": [
    "type(liste_mots)"
   ]
  },
  {
   "cell_type": "markdown",
   "id": "a8bf1109",
   "metadata": {},
   "source": [
    "Accéder à un élément de la liste"
   ]
  },
  {
   "cell_type": "code",
   "execution_count": 51,
   "id": "86ca1ce7",
   "metadata": {},
   "outputs": [
    {
     "data": {
      "text/plain": [
       "'Ceci'"
      ]
     },
     "execution_count": 51,
     "metadata": {},
     "output_type": "execute_result"
    }
   ],
   "source": [
    "liste_mots[0]"
   ]
  },
  {
   "cell_type": "code",
   "execution_count": 52,
   "id": "55726b88",
   "metadata": {},
   "outputs": [
    {
     "data": {
      "text/plain": [
       "'est'"
      ]
     },
     "execution_count": 52,
     "metadata": {},
     "output_type": "execute_result"
    }
   ],
   "source": [
    "liste_mots[1]"
   ]
  },
  {
   "cell_type": "code",
   "execution_count": 12,
   "id": "400fb747",
   "metadata": {},
   "outputs": [],
   "source": [
    "autre_liste = [\"un\",\"chat\",3,\"DIX\"]"
   ]
  },
  {
   "cell_type": "code",
   "execution_count": 13,
   "id": "ffb040b3",
   "metadata": {},
   "outputs": [
    {
     "data": {
      "text/plain": [
       "'DIX'"
      ]
     },
     "execution_count": 13,
     "metadata": {},
     "output_type": "execute_result"
    }
   ],
   "source": [
    "autre_liste[3]"
   ]
  },
  {
   "cell_type": "code",
   "execution_count": 55,
   "id": "499df3d5",
   "metadata": {},
   "outputs": [],
   "source": [
    "autre_liste.append(\"nouvel élément\")"
   ]
  },
  {
   "cell_type": "code",
   "execution_count": 56,
   "id": "1acedde6",
   "metadata": {},
   "outputs": [
    {
     "data": {
      "text/plain": [
       "['un', 'chat', 3, 'DIX', 'nouvel élément']"
      ]
     },
     "execution_count": 56,
     "metadata": {},
     "output_type": "execute_result"
    }
   ],
   "source": [
    "autre_liste"
   ]
  },
  {
   "cell_type": "code",
   "execution_count": 58,
   "id": "1d2a427d",
   "metadata": {},
   "outputs": [],
   "source": [
    "#dir(autre_liste)"
   ]
  },
  {
   "cell_type": "code",
   "execution_count": 59,
   "id": "035d27e2",
   "metadata": {},
   "outputs": [
    {
     "data": {
      "text/plain": [
       "['chat', 3]"
      ]
     },
     "execution_count": 59,
     "metadata": {},
     "output_type": "execute_result"
    }
   ],
   "source": [
    "autre_liste[1:3]"
   ]
  },
  {
   "cell_type": "code",
   "execution_count": 18,
   "id": "6503877a",
   "metadata": {},
   "outputs": [
    {
     "data": {
      "text/plain": [
       "1"
      ]
     },
     "execution_count": 18,
     "metadata": {},
     "output_type": "execute_result"
    }
   ],
   "source": [
    "autre_liste.index('chat')"
   ]
  },
  {
   "cell_type": "markdown",
   "id": "d11d47ce",
   "metadata": {},
   "source": [
    "#### ✍️ Exercice :\n",
    "\n",
    "* Définîtes une liste avec les mots suivants : πρῶτα, χολωθεὶς, ἐρίσαντε, Ἀτρεΐδης, διαστήτην\n",
    "* Trouvez la position du mot πρῶτα dans la liste\n",
    "* Ajoutez un mot à choix à cette liste\n",
    "* Affichez la position du mot que vous venez d'ajouter\n"
   ]
  },
  {
   "cell_type": "markdown",
   "id": "218deeae",
   "metadata": {},
   "source": [
    "## Cinquième ligne"
   ]
  },
  {
   "cell_type": "code",
   "execution_count": 60,
   "id": "a64e25ac",
   "metadata": {},
   "outputs": [],
   "source": [
    "nombre_mots = len(liste_mots)"
   ]
  },
  {
   "cell_type": "code",
   "execution_count": 61,
   "id": "6b297318",
   "metadata": {},
   "outputs": [
    {
     "data": {
      "text/plain": [
       "4"
      ]
     },
     "execution_count": 61,
     "metadata": {},
     "output_type": "execute_result"
    }
   ],
   "source": [
    "len(liste_mots)"
   ]
  },
  {
   "cell_type": "code",
   "execution_count": 62,
   "id": "20304e7f",
   "metadata": {},
   "outputs": [
    {
     "data": {
      "text/plain": [
       "3"
      ]
     },
     "execution_count": 62,
     "metadata": {},
     "output_type": "execute_result"
    }
   ],
   "source": [
    "len([1,2,3])"
   ]
  },
  {
   "cell_type": "code",
   "execution_count": 63,
   "id": "4abe5ef1",
   "metadata": {},
   "outputs": [
    {
     "data": {
      "text/plain": [
       "6"
      ]
     },
     "execution_count": 63,
     "metadata": {},
     "output_type": "execute_result"
    }
   ],
   "source": [
    "len(\"Un mot\")"
   ]
  },
  {
   "cell_type": "markdown",
   "id": "2169593b",
   "metadata": {},
   "source": [
    "### ✍️ Exercice :\n",
    "\n",
    "* Reprenez la liste de l'exercice précédent\n",
    "* Affichez la longueur de la liste\n",
    "* Supprimez le premier élément\n",
    "* Affichez à nouveau la longueur de la liste"
   ]
  },
  {
   "cell_type": "markdown",
   "id": "4c03790f",
   "metadata": {},
   "source": [
    "### Parenthèse : les chaînes de caractères sont des listes"
   ]
  },
  {
   "cell_type": "code",
   "execution_count": 19,
   "id": "14a1197a",
   "metadata": {},
   "outputs": [],
   "source": [
    "mot_grec = \"χολωθεὶς\""
   ]
  },
  {
   "cell_type": "code",
   "execution_count": 25,
   "id": "a1f2930f",
   "metadata": {},
   "outputs": [
    {
     "data": {
      "text/plain": [
       "'χ'"
      ]
     },
     "execution_count": 25,
     "metadata": {},
     "output_type": "execute_result"
    }
   ],
   "source": [
    "# sa première lettre\n",
    "mot_grec[0]"
   ]
  },
  {
   "cell_type": "code",
   "execution_count": 21,
   "id": "8d1c00ee",
   "metadata": {},
   "outputs": [
    {
     "data": {
      "text/plain": [
       "'ς'"
      ]
     },
     "execution_count": 21,
     "metadata": {},
     "output_type": "execute_result"
    }
   ],
   "source": [
    "# sa dernière lettre\n",
    "mot_grec[-1]"
   ]
  },
  {
   "cell_type": "code",
   "execution_count": 23,
   "id": "2a80cbc3",
   "metadata": {},
   "outputs": [
    {
     "data": {
      "text/plain": [
       "8"
      ]
     },
     "execution_count": 23,
     "metadata": {},
     "output_type": "execute_result"
    }
   ],
   "source": [
    "# sa longueur\n",
    "len(mot_grec)"
   ]
  },
  {
   "cell_type": "code",
   "execution_count": 27,
   "id": "e53480af",
   "metadata": {},
   "outputs": [
    {
     "name": "stdout",
     "output_type": "stream",
     "text": [
      "La première lettre du mot χολωθεὶς est χ\n",
      "La dernière lettre du mot χολωθεὶς est ς\n",
      "Le mot χολωθεὶς a 8 lettres\n"
     ]
    }
   ],
   "source": [
    "print(f\"La première lettre du mot {mot_grec} est {mot_grec[0]}\")\n",
    "print(f\"La dernière lettre du mot {mot_grec} est {mot_grec[-1]}\")\n",
    "print(f\"Le mot {mot_grec} a {len(mot_grec)} lettres\")"
   ]
  },
  {
   "cell_type": "markdown",
   "id": "dd143eb5",
   "metadata": {},
   "source": [
    "## Les dictionnaires"
   ]
  },
  {
   "cell_type": "code",
   "execution_count": 32,
   "id": "e4ed9f5c",
   "metadata": {},
   "outputs": [],
   "source": [
    "longueur_mots = {\n",
    "    'πρῶτα': 5,\n",
    "    'χολωθεὶς': 8,\n",
    "    'ἐρίσαντε': 8,\n",
    "    'Ἀτρεΐδης': 8,\n",
    "    'διαστήτην': 9\n",
    "}"
   ]
  },
  {
   "cell_type": "code",
   "execution_count": 54,
   "id": "e1178b22",
   "metadata": {},
   "outputs": [
    {
     "data": {
      "text/plain": [
       "True"
      ]
     },
     "execution_count": 54,
     "metadata": {},
     "output_type": "execute_result"
    }
   ],
   "source": [
    "# l'ordre des clés dans un dictionnaire\n",
    "# n'est pas important\n",
    "longueur_mots_2 = {\n",
    "    'πρῶτα': 5,\n",
    "    'Ἀτρεΐδης': 8,\n",
    "    'ἐρίσαντε': 8,\n",
    "    'διαστήτην': 9,\n",
    "    'χολωθεὶς': 8,\n",
    "}\n",
    "longueur_mots == longueur_mots_2"
   ]
  },
  {
   "cell_type": "code",
   "execution_count": 47,
   "id": "13234179",
   "metadata": {},
   "outputs": [
    {
     "data": {
      "text/plain": [
       "5"
      ]
     },
     "execution_count": 47,
     "metadata": {},
     "output_type": "execute_result"
    }
   ],
   "source": [
    "# réperer la longueur du mot 'πρῶτα'\n",
    "# dans mon dictionnaire -> je vais chercher\n",
    "# la clé 'πρῶτα' dans le dict est j'affiche sa valeur\n",
    "longueur_mots['πρῶτα']"
   ]
  },
  {
   "cell_type": "code",
   "execution_count": 45,
   "id": "c39f45e6",
   "metadata": {},
   "outputs": [
    {
     "data": {
      "text/plain": [
       "5"
      ]
     },
     "execution_count": 45,
     "metadata": {},
     "output_type": "execute_result"
    }
   ],
   "source": [
    "longueur_mots.get('πρῶτα')"
   ]
  },
  {
   "cell_type": "markdown",
   "id": "748316cd",
   "metadata": {},
   "source": [
    "✍️ Ajoutez un mot et sa longueur à la variable `longueur_mots`\n"
   ]
  },
  {
   "cell_type": "code",
   "execution_count": 37,
   "id": "6313ef4c",
   "metadata": {},
   "outputs": [
    {
     "data": {
      "text/plain": [
       "['πρῶτα', 'χολωθεὶς', 'ἐρίσαντε', 'Ἀτρεΐδης', 'διαστήτην']"
      ]
     },
     "execution_count": 37,
     "metadata": {},
     "output_type": "execute_result"
    }
   ],
   "source": [
    "list(longueur_mots.keys())"
   ]
  },
  {
   "cell_type": "code",
   "execution_count": 36,
   "id": "f29a9842",
   "metadata": {},
   "outputs": [
    {
     "data": {
      "text/plain": [
       "[5, 8, 8, 8, 9]"
      ]
     },
     "execution_count": 36,
     "metadata": {},
     "output_type": "execute_result"
    }
   ],
   "source": [
    "list(longueur_mots.values())"
   ]
  },
  {
   "cell_type": "code",
   "execution_count": 39,
   "id": "9316cb19",
   "metadata": {},
   "outputs": [
    {
     "data": {
      "text/plain": [
       "38"
      ]
     },
     "execution_count": 39,
     "metadata": {},
     "output_type": "execute_result"
    }
   ],
   "source": [
    "sum(longueur_mots.values())"
   ]
  },
  {
   "cell_type": "markdown",
   "id": "2d66eadc",
   "metadata": {},
   "source": [
    "✍️ Ajoutez les mots 'ἐρίσαντε', 'Ἀτρεΐδης', 'διαστήτην' avec leur taille au dictionnaire `longueur_mots` et affichez le nouveau contenu du dictionnaire.\n"
   ]
  },
  {
   "cell_type": "code",
   "execution_count": 40,
   "id": "40f59aa7",
   "metadata": {},
   "outputs": [
    {
     "data": {
      "text/plain": [
       "{'mot': 'πρῶτα', 'longueur': 5}"
      ]
     },
     "execution_count": 40,
     "metadata": {},
     "output_type": "execute_result"
    }
   ],
   "source": [
    "{\n",
    "    \"mot\" : \"πρῶτα\",\n",
    "    \"longueur\" : 5\n",
    "}"
   ]
  },
  {
   "cell_type": "code",
   "execution_count": 55,
   "id": "52fda19d",
   "metadata": {},
   "outputs": [],
   "source": [
    "# listes plus complexes : listes de dictionnaires\n",
    "mots = [\n",
    "    {\n",
    "    \"mot\" : \"πρῶτα\",\n",
    "    \"longueur\" : 5\n",
    "    },\n",
    "    {\n",
    "    \"mot\" : \"χολωθεὶς\",\n",
    "    \"longueur\" : 8\n",
    "    }\n",
    "]"
   ]
  },
  {
   "cell_type": "code",
   "execution_count": 56,
   "id": "b8619289",
   "metadata": {},
   "outputs": [],
   "source": [
    "mots = [\n",
    "    {\n",
    "        \"mot\" : \"πρῶτα\",\n",
    "        \"longueur\" : 5,\n",
    "        \"sources\" : {\n",
    "            \"Homère\" : [\"Hom. Il. 1\"]  \n",
    "        } \n",
    "    },\n",
    "    {\n",
    "        \"mot\" : \"χολωθεὶς\",\n",
    "        \"longueur\" : 8,\n",
    "        \"sources\" : {\n",
    "            \"Homère\" : [\"Hom. Il. 1\"]  \n",
    "        } \n",
    "    }\n",
    "]"
   ]
  },
  {
   "cell_type": "code",
   "execution_count": 50,
   "id": "846e86d8",
   "metadata": {},
   "outputs": [
    {
     "name": "stdout",
     "output_type": "stream",
     "text": [
      "{'mot': 'πρῶτα', 'longueur': 5, 'sources': ['Hom. Il. 1']}\n"
     ]
    }
   ],
   "source": [
    "print(mots[0])"
   ]
  },
  {
   "cell_type": "markdown",
   "id": "ad5deb79",
   "metadata": {},
   "source": [
    "## Calcul logique et de condition (lignes 17-18)"
   ]
  },
  {
   "cell_type": "code",
   "execution_count": 64,
   "id": "3b5efae2",
   "metadata": {},
   "outputs": [
    {
     "data": {
      "text/plain": [
       "False"
      ]
     },
     "execution_count": 64,
     "metadata": {},
     "output_type": "execute_result"
    }
   ],
   "source": [
    "1 == 10"
   ]
  },
  {
   "cell_type": "code",
   "execution_count": 65,
   "id": "1d67262f",
   "metadata": {},
   "outputs": [
    {
     "data": {
      "text/plain": [
       "True"
      ]
     },
     "execution_count": 65,
     "metadata": {},
     "output_type": "execute_result"
    }
   ],
   "source": [
    "1 < 10"
   ]
  },
  {
   "cell_type": "code",
   "execution_count": 66,
   "id": "61bdc1a6",
   "metadata": {},
   "outputs": [
    {
     "data": {
      "text/plain": [
       "True"
      ]
     },
     "execution_count": 66,
     "metadata": {},
     "output_type": "execute_result"
    }
   ],
   "source": [
    "(10 > 100) or (10 > 1)"
   ]
  },
  {
   "cell_type": "code",
   "execution_count": 67,
   "id": "67c11257",
   "metadata": {},
   "outputs": [
    {
     "data": {
      "text/plain": [
       "True"
      ]
     },
     "execution_count": 67,
     "metadata": {},
     "output_type": "execute_result"
    }
   ],
   "source": [
    "1 in [1,2,3,4]"
   ]
  },
  {
   "cell_type": "markdown",
   "id": "1b2608a5",
   "metadata": {},
   "source": [
    "## Les boucles\n",
    "\n",
    "- boucler une liste\n",
    "- boucler un dictionnaire"
   ]
  },
  {
   "cell_type": "markdown",
   "id": "4197cae9",
   "metadata": {},
   "source": [
    "## Les fonctions"
   ]
  },
  {
   "cell_type": "markdown",
   "id": "fd4a86e1",
   "metadata": {},
   "source": []
  }
 ],
 "metadata": {
  "kernelspec": {
   "display_name": "Python 3 (ipykernel)",
   "language": "python",
   "name": "python3"
  },
  "language_info": {
   "codemirror_mode": {
    "name": "ipython",
    "version": 3
   },
   "file_extension": ".py",
   "mimetype": "text/x-python",
   "name": "python",
   "nbconvert_exporter": "python",
   "pygments_lexer": "ipython3",
   "version": "3.10.0"
  }
 },
 "nbformat": 4,
 "nbformat_minor": 5
}
